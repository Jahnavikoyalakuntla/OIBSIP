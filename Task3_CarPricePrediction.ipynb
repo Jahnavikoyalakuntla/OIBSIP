{
 "cells": [
  {
   "cell_type": "code",
   "execution_count": 15,
   "id": "95c3331f-d07f-42b4-9a71-c417927ac84f",
   "metadata": {},
   "outputs": [],
   "source": [
    "import pandas as pd\n",
    "import numpy as np\n",
    "import matplotlib.pyplot as plt"
   ]
  },
  {
   "cell_type": "code",
   "execution_count": 16,
   "id": "04df2265-98f4-407c-b243-c1887f1e4aaf",
   "metadata": {},
   "outputs": [
    {
     "name": "stdout",
     "output_type": "stream",
     "text": [
      "    Car_Name  Year  Selling_Price  Present_Price  Driven_kms Fuel_Type  \\\n",
      "0       ritz  2014           3.35           5.59       27000    Petrol   \n",
      "1        sx4  2013           4.75           9.54       43000    Diesel   \n",
      "2       ciaz  2017           7.25           9.85        6900    Petrol   \n",
      "3    wagon r  2011           2.85           4.15        5200    Petrol   \n",
      "4      swift  2014           4.60           6.87       42450    Diesel   \n",
      "..       ...   ...            ...            ...         ...       ...   \n",
      "296     city  2016           9.50          11.60       33988    Diesel   \n",
      "297     brio  2015           4.00           5.90       60000    Petrol   \n",
      "298     city  2009           3.35          11.00       87934    Petrol   \n",
      "299     city  2017          11.50          12.50        9000    Diesel   \n",
      "300     brio  2016           5.30           5.90        5464    Petrol   \n",
      "\n",
      "    Selling_type Transmission  Owner  \n",
      "0         Dealer       Manual      0  \n",
      "1         Dealer       Manual      0  \n",
      "2         Dealer       Manual      0  \n",
      "3         Dealer       Manual      0  \n",
      "4         Dealer       Manual      0  \n",
      "..           ...          ...    ...  \n",
      "296       Dealer       Manual      0  \n",
      "297       Dealer       Manual      0  \n",
      "298       Dealer       Manual      0  \n",
      "299       Dealer       Manual      0  \n",
      "300       Dealer       Manual      0  \n",
      "\n",
      "[301 rows x 9 columns]\n"
     ]
    }
   ],
   "source": [
    "data_set = pd.read_csv('car data.csv')\n",
    "print(data_set)"
   ]
  },
  {
   "cell_type": "code",
   "execution_count": 17,
   "id": "4eb1cf92-c15f-4ba7-b5d7-04c72adacb8d",
   "metadata": {},
   "outputs": [
    {
     "data": {
      "text/plain": [
       "Car_Name         0\n",
       "Year             0\n",
       "Selling_Price    0\n",
       "Present_Price    0\n",
       "Driven_kms       0\n",
       "Fuel_Type        0\n",
       "Selling_type     0\n",
       "Transmission     0\n",
       "Owner            0\n",
       "dtype: int64"
      ]
     },
     "execution_count": 17,
     "metadata": {},
     "output_type": "execute_result"
    }
   ],
   "source": [
    "#Finding missing values\n",
    "data_set.isnull().sum()"
   ]
  },
  {
   "cell_type": "code",
   "execution_count": 18,
   "id": "dffe742e-3830-436c-8a1c-c73b02be86ee",
   "metadata": {},
   "outputs": [
    {
     "name": "stdout",
     "output_type": "stream",
     "text": [
      "    Car_Name  Year  Selling_Price  Present_Price  Driven_kms  Fuel_Type  \\\n",
      "0       ritz  2014           3.35           5.59       27000          2   \n",
      "1        sx4  2013           4.75           9.54       43000          1   \n",
      "2       ciaz  2017           7.25           9.85        6900          2   \n",
      "3    wagon r  2011           2.85           4.15        5200          2   \n",
      "4      swift  2014           4.60           6.87       42450          1   \n",
      "..       ...   ...            ...            ...         ...        ...   \n",
      "296     city  2016           9.50          11.60       33988          1   \n",
      "297     brio  2015           4.00           5.90       60000          2   \n",
      "298     city  2009           3.35          11.00       87934          2   \n",
      "299     city  2017          11.50          12.50        9000          1   \n",
      "300     brio  2016           5.30           5.90        5464          2   \n",
      "\n",
      "    Selling_type Transmission  Owner  \n",
      "0         Dealer       Manual      0  \n",
      "1         Dealer       Manual      0  \n",
      "2         Dealer       Manual      0  \n",
      "3         Dealer       Manual      0  \n",
      "4         Dealer       Manual      0  \n",
      "..           ...          ...    ...  \n",
      "296       Dealer       Manual      0  \n",
      "297       Dealer       Manual      0  \n",
      "298       Dealer       Manual      0  \n",
      "299       Dealer       Manual      0  \n",
      "300       Dealer       Manual      0  \n",
      "\n",
      "[301 rows x 9 columns]\n"
     ]
    }
   ],
   "source": [
    "#Converting categorical data to numerical data\n",
    "from sklearn.preprocessing import LabelEncoder\n",
    "le = LabelEncoder()\n",
    "\n",
    "data_set['Fuel_Type'] = le.fit_transform(data_set['Fuel_Type'])\n",
    "print(data_set)"
   ]
  },
  {
   "cell_type": "code",
   "execution_count": 19,
   "id": "ce838a77-6455-4fdd-95a4-8906e3affb47",
   "metadata": {},
   "outputs": [
    {
     "name": "stdout",
     "output_type": "stream",
     "text": [
      "     Year  Selling_Price  Driven_kms  Fuel_Type\n",
      "0    2014           3.35       27000          2\n",
      "1    2013           4.75       43000          1\n",
      "2    2017           7.25        6900          2\n",
      "3    2011           2.85        5200          2\n",
      "4    2014           4.60       42450          1\n",
      "..    ...            ...         ...        ...\n",
      "296  2016           9.50       33988          1\n",
      "297  2015           4.00       60000          2\n",
      "298  2009           3.35       87934          2\n",
      "299  2017          11.50        9000          1\n",
      "300  2016           5.30        5464          2\n",
      "\n",
      "[301 rows x 4 columns]\n",
      "0       5.59\n",
      "1       9.54\n",
      "2       9.85\n",
      "3       4.15\n",
      "4       6.87\n",
      "       ...  \n",
      "296    11.60\n",
      "297     5.90\n",
      "298    11.00\n",
      "299    12.50\n",
      "300     5.90\n",
      "Name: Present_Price, Length: 301, dtype: float64\n"
     ]
    }
   ],
   "source": [
    "X = data_set.iloc[:,[1,2,4,5]]\n",
    "y = data_set.iloc[:,3]\n",
    "print(X)\n",
    "print(y)"
   ]
  },
  {
   "cell_type": "code",
   "execution_count": 20,
   "id": "6141e4e2-4fa4-4cc9-b480-5dedd5f90a21",
   "metadata": {},
   "outputs": [],
   "source": [
    "#Training and Testing the data\n",
    "from sklearn.model_selection import train_test_split\n",
    "x_train,x_test,y_train,y_test = train_test_split(X,y,test_size=0.2,random_state=0)"
   ]
  },
  {
   "cell_type": "code",
   "execution_count": 21,
   "id": "2ebd1a02-75ae-4770-913c-d06ade8d6d58",
   "metadata": {},
   "outputs": [
    {
     "name": "stdout",
     "output_type": "stream",
     "text": [
      "Linear Regression: 1.7366706866634127\n",
      "Linear Regression: 5.255204634447266\n",
      "Linear Regression: 0.8979735727677559\n"
     ]
    }
   ],
   "source": [
    "#Linear Regression\n",
    "from sklearn.linear_model import LinearRegression\n",
    "from sklearn.metrics import mean_absolute_error,mean_squared_error,r2_score\n",
    "model = LinearRegression()\n",
    "model.fit(x_train,y_train)\n",
    "prediction = model.predict(x_test)\n",
    "print('Linear Regression:',mean_absolute_error(y_test,prediction))\n",
    "print('Linear Regression:',mean_squared_error(y_test,prediction))\n",
    "print('Linear Regression:',r2_score(y_test,prediction))"
   ]
  },
  {
   "cell_type": "code",
   "execution_count": null,
   "id": "26f63e16-d58a-4186-9df6-a56333f2e94c",
   "metadata": {},
   "outputs": [],
   "source": []
  }
 ],
 "metadata": {
  "kernelspec": {
   "display_name": "Python 3 (ipykernel)",
   "language": "python",
   "name": "python3"
  },
  "language_info": {
   "codemirror_mode": {
    "name": "ipython",
    "version": 3
   },
   "file_extension": ".py",
   "mimetype": "text/x-python",
   "name": "python",
   "nbconvert_exporter": "python",
   "pygments_lexer": "ipython3",
   "version": "3.11.7"
  }
 },
 "nbformat": 4,
 "nbformat_minor": 5
}
