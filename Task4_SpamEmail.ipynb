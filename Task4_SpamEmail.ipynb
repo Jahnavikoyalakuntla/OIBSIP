{
 "cells": [
  {
   "cell_type": "code",
   "execution_count": null,
   "id": "8ea5bb1d-bf45-4803-86a7-f70dca2c3364",
   "metadata": {},
   "outputs": [],
   "source": [
    "TASK - 4 (SPAM EMAIL DETECTION)"
   ]
  },
  {
   "cell_type": "code",
   "execution_count": 54,
   "id": "005fd6a5-a566-4746-a2d0-e28b1174e215",
   "metadata": {},
   "outputs": [
    {
     "name": "stderr",
     "output_type": "stream",
     "text": [
      "[nltk_data] Downloading package stopwords to\n",
      "[nltk_data]     C:\\Users\\HP\\AppData\\Roaming\\nltk_data...\n",
      "[nltk_data]   Package stopwords is already up-to-date!\n"
     ]
    }
   ],
   "source": [
    "#import libraries\n",
    "import pandas as pd\n",
    "import numpy as np\n",
    "import string\n",
    "import nltk\n",
    "nltk.download('stopwords')\n",
    "from nltk.corpus import stopwords"
   ]
  },
  {
   "cell_type": "code",
   "execution_count": 55,
   "id": "b8b7f369-e985-46f8-b78f-32324812891e",
   "metadata": {},
   "outputs": [
    {
     "name": "stdout",
     "output_type": "stream",
     "text": [
      "        v1                                                 v2 Unnamed: 2  \\\n",
      "0      ham  Go until jurong point, crazy.. Available only ...        NaN   \n",
      "1      ham                      Ok lar... Joking wif u oni...        NaN   \n",
      "2     spam  Free entry in 2 a wkly comp to win FA Cup fina...        NaN   \n",
      "3      ham  U dun say so early hor... U c already then say...        NaN   \n",
      "4      ham  Nah I don't think he goes to usf, he lives aro...        NaN   \n",
      "...    ...                                                ...        ...   \n",
      "5567  spam  This is the 2nd time we have tried 2 contact u...        NaN   \n",
      "5568   ham              Will Ì_ b going to esplanade fr home?        NaN   \n",
      "5569   ham  Pity, * was in mood for that. So...any other s...        NaN   \n",
      "5570   ham  The guy did some bitching but I acted like i'd...        NaN   \n",
      "5571   ham                         Rofl. Its true to its name        NaN   \n",
      "\n",
      "     Unnamed: 3 Unnamed: 4  \n",
      "0           NaN        NaN  \n",
      "1           NaN        NaN  \n",
      "2           NaN        NaN  \n",
      "3           NaN        NaN  \n",
      "4           NaN        NaN  \n",
      "...         ...        ...  \n",
      "5567        NaN        NaN  \n",
      "5568        NaN        NaN  \n",
      "5569        NaN        NaN  \n",
      "5570        NaN        NaN  \n",
      "5571        NaN        NaN  \n",
      "\n",
      "[5572 rows x 5 columns]\n"
     ]
    }
   ],
   "source": [
    "#Reading input data\n",
    "data_set = pd.read_csv('spam.csv', encoding='latin1')\n",
    "print(data_set)"
   ]
  },
  {
   "cell_type": "code",
   "execution_count": 56,
   "id": "a2040fe4-cdf5-4420-84a5-fa3448027c80",
   "metadata": {},
   "outputs": [],
   "source": [
    "#Removing unnecessary cloumns\n",
    "data_set = data_set.drop(columns=['Unnamed: 2', 'Unnamed: 3', 'Unnamed: 4'])\n",
    "data_set.columns = ['label', 'text']"
   ]
  },
  {
   "cell_type": "code",
   "execution_count": 57,
   "id": "3d842f57-df7d-43e7-9559-30a563725695",
   "metadata": {},
   "outputs": [
    {
     "name": "stdout",
     "output_type": "stream",
     "text": [
      "      label                                               text\n",
      "0         0  Go until jurong point, crazy.. Available only ...\n",
      "1         0                      Ok lar... Joking wif u oni...\n",
      "2         1  Free entry in 2 a wkly comp to win FA Cup fina...\n",
      "3         0  U dun say so early hor... U c already then say...\n",
      "4         0  Nah I don't think he goes to usf, he lives aro...\n",
      "...     ...                                                ...\n",
      "5567      1  This is the 2nd time we have tried 2 contact u...\n",
      "5568      0              Will Ì_ b going to esplanade fr home?\n",
      "5569      0  Pity, * was in mood for that. So...any other s...\n",
      "5570      0  The guy did some bitching but I acted like i'd...\n",
      "5571      0                         Rofl. Its true to its name\n",
      "\n",
      "[5572 rows x 2 columns]\n"
     ]
    }
   ],
   "source": [
    "#categorical data into numerical data\n",
    "data_set['label'] = data_set['label'].map({'ham':0,'spam':1})\n",
    "print(data_set)"
   ]
  },
  {
   "cell_type": "code",
   "execution_count": 58,
   "id": "213fac68-3ef9-4ac8-8c7f-ddb43adc5ab1",
   "metadata": {},
   "outputs": [],
   "source": [
    "#To clean text\n",
    "def text_clean(txt):\n",
    "    txt = ''.join([i for i in txt if i not in string.punctuation])\n",
    "    words = txt.split()\n",
    "    words = [w.lower() for w in words if w.lower() not in stopwords.words('english')]\n",
    "    return ''.join(words)\n",
    "\n",
    "data_set['text'] = data_set['text'].apply(text_clean)"
   ]
  },
  {
   "cell_type": "code",
   "execution_count": 59,
   "id": "74320a26-253a-4fcd-aa2d-e79a225bd834",
   "metadata": {},
   "outputs": [],
   "source": [
    "#Converting text to features\n",
    "from sklearn.feature_extraction.text import TfidfVectorizer\n",
    "vectorizer = TfidfVectorizer()\n",
    "X = vectorizer.fit_transform(data_set['text'])"
   ]
  },
  {
   "cell_type": "code",
   "execution_count": 60,
   "id": "b1128694-ed12-490a-b1fb-1575e507f396",
   "metadata": {},
   "outputs": [],
   "source": [
    "y = data_set['label']"
   ]
  },
  {
   "cell_type": "code",
   "execution_count": 61,
   "id": "ab5228d9-cfd4-46f2-a23f-1d7914b56500",
   "metadata": {},
   "outputs": [],
   "source": [
    "#Training and Testing data\n",
    "from sklearn.model_selection import train_test_split\n",
    "x_train,x_test,y_train,y_test = train_test_split(X,y,test_size=0.2,random_state=42)"
   ]
  },
  {
   "cell_type": "code",
   "execution_count": 62,
   "id": "2c5781af-b42c-498f-9e7a-fad18fbf252b",
   "metadata": {},
   "outputs": [
    {
     "name": "stdout",
     "output_type": "stream",
     "text": [
      "SVM - Accuracy: 0.9103139013452914\n",
      "SVM - Precision: 1.0\n",
      "SVM - Recall: 0.3333333333333333\n",
      "SVM - F1 Score: 0.5\n"
     ]
    }
   ],
   "source": [
    "#Implementing Support vector Algorithm \n",
    "from sklearn.svm import SVC\n",
    "from sklearn.metrics import accuracy_score, precision_score, recall_score, f1_score\n",
    "svm_model = SVC(kernel='linear')\n",
    "svm_model.fit(x_train,y_train)\n",
    "svm_pred = svm_model.predict(x_test)\n",
    "\n",
    "accuracy = accuracy_score(y_test, svm_pred)\n",
    "precision = precision_score(y_test, svm_pred)\n",
    "recall = recall_score(y_test, svm_pred)\n",
    "f1 = f1_score(y_test, svm_pred)\n",
    "\n",
    "print('SVM - Accuracy:',accuracy)\n",
    "print('SVM - Precision:',precision)\n",
    "print('SVM - Recall:',recall)\n",
    "print('SVM - F1 Score:',f1)"
   ]
  },
  {
   "cell_type": "code",
   "execution_count": null,
   "id": "7383c7b9-a244-4eb9-bae0-93851cee838e",
   "metadata": {},
   "outputs": [],
   "source": []
  }
 ],
 "metadata": {
  "kernelspec": {
   "display_name": "Python 3 (ipykernel)",
   "language": "python",
   "name": "python3"
  },
  "language_info": {
   "codemirror_mode": {
    "name": "ipython",
    "version": 3
   },
   "file_extension": ".py",
   "mimetype": "text/x-python",
   "name": "python",
   "nbconvert_exporter": "python",
   "pygments_lexer": "ipython3",
   "version": "3.11.7"
  }
 },
 "nbformat": 4,
 "nbformat_minor": 5
}
