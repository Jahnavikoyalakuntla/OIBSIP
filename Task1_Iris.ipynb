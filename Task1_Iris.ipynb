{
 "cells": [
  {
   "cell_type": "code",
   "execution_count": null,
   "id": "a584c57b-7962-4f53-aa86-c0717b9824ad",
   "metadata": {},
   "outputs": [],
   "source": [
    "TASK - 1 (IRIS FLOWER CLASSIFICATION)"
   ]
  },
  {
   "cell_type": "code",
   "execution_count": null,
   "id": "267a8100-c28d-41eb-abfd-c13d0a8c9a4e",
   "metadata": {},
   "outputs": [],
   "source": [
    "#importing libraries\n",
    "import pandas as pd\n",
    "import numpy as np\n",
    "import matplotlib.pyplot as plt\n",
    "\n",
    "data_set = pd.read_csv(\"Iris (1).csv\")"
   ]
  },
  {
   "cell_type": "code",
   "execution_count": null,
   "id": "06993c76-1a2f-49fb-9d94-29434bb21974",
   "metadata": {},
   "outputs": [],
   "source": [
    "#Categorical data to numerical data\n",
    "from sklearn.preprocessing import LabelEncoder\n",
    "le = LabelEncoder()\n",
    "data_set[\"Species\"] = le.fit_transform(data_set[\"Species\"])\n",
    "print(data_set)"
   ]
  },
  {
   "cell_type": "code",
   "execution_count": null,
   "id": "012c7c40-0215-4185-b3a3-37a48ac3e02f",
   "metadata": {},
   "outputs": [],
   "source": [
    "print(data_set)"
   ]
  },
  {
   "cell_type": "code",
   "execution_count": null,
   "id": "bb8dc0b8-18d0-4745-aded-5d3011f66d93",
   "metadata": {},
   "outputs": [],
   "source": [
    "#separating Target elements and features\n",
    "X = data_set.iloc[:,[0,1,2,3]]\n",
    "X.head()"
   ]
  },
  {
   "cell_type": "code",
   "execution_count": null,
   "id": "e88b2a8f-77b4-4661-ba53-f46ba1934787",
   "metadata": {},
   "outputs": [],
   "source": [
    "y = data_set.iloc[:,-1]\n",
    "y.head()"
   ]
  },
  {
   "cell_type": "code",
   "execution_count": null,
   "id": "3462ca2c-218c-4ef3-94f9-fcefa7ea27a1",
   "metadata": {},
   "outputs": [],
   "source": [
    "#Testing and Training data\n",
    "from sklearn.model_selection import train_test_split\n",
    "x_train,x_test,y_train,y_test = train_test_split(X,y,test_size = 0.2,random_state = 0)"
   ]
  },
  {
   "cell_type": "code",
   "execution_count": null,
   "id": "9f0777b2-d724-406b-81bc-a190aa782ad2",
   "metadata": {},
   "outputs": [],
   "source": [
    "print(x_train.shape)\n",
    "print(x_test.shape)\n",
    "print(y_train.shape)\n",
    "print(y_test.shape)"
   ]
  },
  {
   "cell_type": "code",
   "execution_count": null,
   "id": "d357b7ec-9690-454b-be56-7724140b6867",
   "metadata": {},
   "outputs": [],
   "source": [
    "#Implementing Decision Tree\n",
    "from sklearn.tree import DecisionTreeClassifier\n",
    "dtree = DecisionTreeClassifier()\n",
    "dtree.fit(x_train,y_train)\n",
    "\n",
    "y_pred = dtree.predict(x_test)\n"
   ]
  },
  {
   "cell_type": "code",
   "execution_count": null,
   "id": "ce3ec4cd-d916-47aa-85d3-c6efb1ea532e",
   "metadata": {},
   "outputs": [],
   "source": [
    "#Ploting Decision Tree\n",
    "from sklearn.tree import plot_tree\n",
    "features = ['SepalLength','SepalWidth','PetalLength','PetalWidth']\n",
    "classes = ['Iris-Setosa','Iris-Versicolor','Iris-Virginica']\n",
    "plt.figure(figsize=(10,10))\n",
    "plot_tree(dtree,feature_names = features,class_names = classes,filled = True)"
   ]
  },
  {
   "cell_type": "code",
   "execution_count": null,
   "id": "8e04fe71-9d4d-4e35-b964-f4e54b841a6d",
   "metadata": {},
   "outputs": [],
   "source": []
  }
 ],
 "metadata": {
  "kernelspec": {
   "display_name": "Python 3 (ipykernel)",
   "language": "python",
   "name": "python3"
  },
  "language_info": {
   "codemirror_mode": {
    "name": "ipython",
    "version": 3
   },
   "file_extension": ".py",
   "mimetype": "text/x-python",
   "name": "python",
   "nbconvert_exporter": "python",
   "pygments_lexer": "ipython3",
   "version": "3.11.7"
  }
 },
 "nbformat": 4,
 "nbformat_minor": 5
}
